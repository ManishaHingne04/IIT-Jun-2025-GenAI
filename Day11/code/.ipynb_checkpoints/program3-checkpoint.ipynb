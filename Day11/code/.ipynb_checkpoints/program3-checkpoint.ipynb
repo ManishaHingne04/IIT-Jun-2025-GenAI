{
 "cells": [
  {
   "cell_type": "code",
   "execution_count": null,
   "id": "e3f3bcac-da2a-4396-8ac3-a58f830fb319",
   "metadata": {},
   "outputs": [],
   "source": [
    "%pip install langgraph"
   ]
  },
  {
   "cell_type": "code",
   "execution_count": 5,
   "id": "ad0509a6-15d7-41e8-ade3-9bd9dab35186",
   "metadata": {},
   "outputs": [],
   "source": [
    "from langgraph.graph import StateGraph, START, END\n",
    "from langgraph.graph.message import add_messages\n",
    "from typing import Annotated\n",
    "from typing_extensions import TypedDict\n",
    "from langchain_ollama import ChatOllama"
   ]
  },
  {
   "cell_type": "code",
   "execution_count": 23,
   "id": "22350bf7-eb3e-4508-a796-857c4c41d9e6",
   "metadata": {},
   "outputs": [],
   "source": [
    "# define the state\n",
    "class State(TypedDict):\n",
    "    # when there is new message arrived, append it to the messages\n",
    "    messages: Annotated[list, add_messages]"
   ]
  },
  {
   "cell_type": "code",
   "execution_count": 4,
   "id": "11b226d9-0c69-4940-85d3-349510c9a61a",
   "metadata": {},
   "outputs": [],
   "source": [
    "# create the graph\n",
    "workflow = StateGraph(State)"
   ]
  },
  {
   "cell_type": "code",
   "execution_count": 6,
   "id": "92cd187e-b32a-41fa-b908-ce8e584a8422",
   "metadata": {},
   "outputs": [],
   "source": [
    "# create the model\n",
    "model = ChatOllama(model=\"llama3.1\")"
   ]
  },
  {
   "cell_type": "code",
   "execution_count": 8,
   "id": "11e5e06f-dae9-4224-9283-aad3828cf160",
   "metadata": {},
   "outputs": [],
   "source": [
    "# create a function (tool)\n",
    "def chatbot(state: State):\n",
    "    # get the message from llm and append it to the state's messages list\n",
    "    return {\"messages\": [model.invoke(state[\"messages\"])]}    "
   ]
  },
  {
   "cell_type": "code",
   "execution_count": 9,
   "id": "cda1db75-8511-46c9-8435-8346c3d8e6f8",
   "metadata": {},
   "outputs": [
    {
     "data": {
      "text/plain": [
       "<langgraph.graph.state.StateGraph at 0x107afe620>"
      ]
     },
     "execution_count": 9,
     "metadata": {},
     "output_type": "execute_result"
    }
   ],
   "source": [
    "# add the nodes\n",
    "workflow.add_node(\"chatbot\", chatbot)"
   ]
  },
  {
   "cell_type": "code",
   "execution_count": 10,
   "id": "18a997b9-22d9-47f4-9141-e26d7b7a1818",
   "metadata": {},
   "outputs": [
    {
     "data": {
      "text/plain": [
       "<langgraph.graph.state.StateGraph at 0x107afe620>"
      ]
     },
     "execution_count": 10,
     "metadata": {},
     "output_type": "execute_result"
    }
   ],
   "source": [
    "# add the required edges\n",
    "workflow.add_edge(START, \"chatbot\")\n",
    "workflow.add_edge(\"chatbot\", END)"
   ]
  },
  {
   "cell_type": "code",
   "execution_count": 12,
   "id": "41340873-19a1-45b0-b802-c569e7d6455c",
   "metadata": {},
   "outputs": [],
   "source": [
    "# compile the graph\n",
    "graph = workflow.compile()"
   ]
  },
  {
   "cell_type": "code",
   "execution_count": 19,
   "id": "fdd3fb4a-1c76-4749-8515-fe404e45faab",
   "metadata": {},
   "outputs": [
    {
     "name": "stdin",
     "output_type": "stream",
     "text": [
      "your message:  who is president of usa?\n"
     ]
    },
    {
     "name": "stdout",
     "output_type": "stream",
     "text": [
      "{'messages': [HumanMessage(content='who is president of usa?', additional_kwargs={}, response_metadata={}, id='da437a51-3dc6-47e3-b07e-2963d609b7c0'), AIMessage(content='As of my last update in April 2023, the President of the United States is Joe Biden. He assumed office on January 20, 2021, after winning the presidential election held in November 2020. Prior to his presidency, he served as the Vice President under Barack Obama from 2009 to 2017.\\n\\nPlease note that information may change over time.', additional_kwargs={}, response_metadata={'model': 'llama3.1', 'created_at': '2025-04-01T16:44:48.693105Z', 'done': True, 'done_reason': 'stop', 'total_duration': 3529203750, 'load_duration': 31185333, 'prompt_eval_count': 16, 'prompt_eval_duration': 580039125, 'eval_count': 78, 'eval_duration': 2917309291, 'message': Message(role='assistant', content='', images=None, tool_calls=None)}, id='run-4fe5f585-26ff-4222-b1a8-a15f6b93035c-0', usage_metadata={'input_tokens': 16, 'output_tokens': 78, 'total_tokens': 94})]}\n"
     ]
    },
    {
     "name": "stdin",
     "output_type": "stream",
     "text": [
      "your message:  where does he live?\n"
     ]
    },
    {
     "name": "stdout",
     "output_type": "stream",
     "text": [
      "{'messages': [HumanMessage(content='where does he live?', additional_kwargs={}, response_metadata={}, id='c69a3c4c-ee3c-40a2-8532-dbd052bb4539'), AIMessage(content='I don\\'t have any information about a specific person. This conversation just started, and I don\\'t know who \"he\" is. If you\\'d like to tell me more about the person or context, I\\'d be happy to try and help.', additional_kwargs={}, response_metadata={'model': 'llama3.1', 'created_at': '2025-04-01T16:45:09.833471Z', 'done': True, 'done_reason': 'stop', 'total_duration': 2426112833, 'load_duration': 37014750, 'prompt_eval_count': 15, 'prompt_eval_duration': 509383709, 'eval_count': 51, 'eval_duration': 1878252000, 'message': Message(role='assistant', content='', images=None, tool_calls=None)}, id='run-52e7ef06-7267-4c31-adac-0091a91cbfd2-0', usage_metadata={'input_tokens': 15, 'output_tokens': 51, 'total_tokens': 66})]}\n"
     ]
    },
    {
     "name": "stdin",
     "output_type": "stream",
     "text": [
      "your message:  q\n"
     ]
    }
   ],
   "source": [
    "while True:\n",
    "    # get user input\n",
    "    user_input = input(\"your message: \")\n",
    "    if user_input.lower() in ['q', 'quit', 'exit']:\n",
    "        break        \n",
    "\n",
    "    # invoke the graph\n",
    "    response = graph.invoke({\"messages\": user_input})\n",
    "    print(response)"
   ]
  },
  {
   "cell_type": "code",
   "execution_count": null,
   "id": "8ae981b6-2a2e-4f0b-b63b-add4bcb7e3c6",
   "metadata": {},
   "outputs": [],
   "source": []
  }
 ],
 "metadata": {
  "kernelspec": {
   "display_name": "Python 3 (ipykernel)",
   "language": "python",
   "name": "python3"
  },
  "language_info": {
   "codemirror_mode": {
    "name": "ipython",
    "version": 3
   },
   "file_extension": ".py",
   "mimetype": "text/x-python",
   "name": "python",
   "nbconvert_exporter": "python",
   "pygments_lexer": "ipython3",
   "version": "3.10.16"
  }
 },
 "nbformat": 4,
 "nbformat_minor": 5
}
