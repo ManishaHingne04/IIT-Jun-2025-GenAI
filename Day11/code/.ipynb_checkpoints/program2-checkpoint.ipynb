{
 "cells": [
  {
   "cell_type": "code",
   "execution_count": 6,
   "id": "c5c827ed-e621-40b4-b66d-17dc6f8ff246",
   "metadata": {},
   "outputs": [],
   "source": [
    "from langchain_ollama import ChatOllama\n",
    "from langchain.agents import AgentExecutor, create_tool_calling_agent, tool\n",
    "from langchain.prompts import ChatPromptTemplate"
   ]
  },
  {
   "cell_type": "code",
   "execution_count": 2,
   "id": "5a7baa90-2fd9-4f80-a630-e1395c60ea33",
   "metadata": {},
   "outputs": [],
   "source": [
    "# create the model\n",
    "model = ChatOllama(model=\"llama3.1\")"
   ]
  },
  {
   "cell_type": "code",
   "execution_count": 3,
   "id": "e99cad14-aa0a-4551-9d44-93a2e2d73cda",
   "metadata": {},
   "outputs": [],
   "source": [
    "import yfinance as yf\n",
    "\n",
    "# tool to get the stock price of a stock quote\n",
    "@tool\n",
    "def stock_market_tool(stock_quote: str):\n",
    "    \"\"\"\n",
    "    This function is used to get the current stock price from stock market.\n",
    "\n",
    "    Args:\n",
    "        stock_quote (str): stock ticker symbol for a company.\n",
    "        \n",
    "    Returns:\n",
    "        dict: dictionary containing the current stock price of the given stock symbol.\n",
    "    \n",
    "    \"\"\"\n",
    "    \n",
    "    # get the ticker\n",
    "    ticker = yf.Ticker(stock_quote)\n",
    "\n",
    "    # get the current stock_price\n",
    "    price = ticker.info['regularMarketPrice']\n",
    "\n",
    "    return {\"price\": price}  "
   ]
  },
  {
   "cell_type": "code",
   "execution_count": 4,
   "id": "197a2060-6a5f-421c-984f-af8e0071e55d",
   "metadata": {},
   "outputs": [],
   "source": [
    "@tool\n",
    "def weather_tool(city: str):\n",
    "    \"\"\"\n",
    "    This tool is used to get the current temperature of required city\n",
    "    \n",
    "    Args:\n",
    "        city (str): name of the city for which we need to find the weather\n",
    "\n",
    "    Returns:\n",
    "        dict | str: dictionary with current temperature if weather of a city is found or \"not available\" otherwise.\n",
    "    \"\"\"\n",
    "    \n",
    "    if city.lower() == \"pune\":\n",
    "        return {\"temperature\": 36}\n",
    "    elif city.lower() == \"mumbai\":\n",
    "        return {\"temperature\": 38}\n",
    "    elif city.lower() == \"satara\":\n",
    "        return {\"temperature\": 34}\n",
    "    else:\n",
    "        return \"not available\""
   ]
  },
  {
   "cell_type": "code",
   "execution_count": 5,
   "id": "c8a48b00-b433-43ba-8da7-20f68a7e8356",
   "metadata": {},
   "outputs": [],
   "source": [
    "# create the tools\n",
    "tools = [stock_market_tool, weather_tool]"
   ]
  },
  {
   "cell_type": "code",
   "execution_count": 9,
   "id": "605d3049-803b-438c-9fdc-800bfd108883",
   "metadata": {},
   "outputs": [],
   "source": [
    "# create the prompt\n",
    "prompt = ChatPromptTemplate.from_messages([\n",
    "    (\"system\", \"You are a helpful assistant capable of answering questions on various topics.\"),\n",
    "    (\"human\", \"{question}\"),\n",
    "    (\"placeholder\", \"{agent_scratchpad}\")\n",
    "])"
   ]
  },
  {
   "cell_type": "code",
   "execution_count": 11,
   "id": "a0635717-dcc4-493b-9624-4216cfce30ef",
   "metadata": {},
   "outputs": [],
   "source": [
    "# create an agent\n",
    "agent = create_tool_calling_agent(llm=model, prompt=prompt, tools=tools)\n",
    "\n",
    "# create the agent executor\n",
    "agent_executor = AgentExecutor(agent=agent, tools=tools, verbose=True)"
   ]
  },
  {
   "cell_type": "code",
   "execution_count": 14,
   "id": "ddfb198a-c20e-4ce5-aa5a-5a14e5ba182d",
   "metadata": {},
   "outputs": [
    {
     "name": "stdout",
     "output_type": "stream",
     "text": [
      "\n",
      "\n",
      "\u001b[1m> Entering new AgentExecutor chain...\u001b[0m\n",
      "\u001b[32;1m\u001b[1;3m\n",
      "Invoking: `weather_tool` with `{'city': 'pune'}`\n",
      "\n",
      "\n",
      "\u001b[0m\u001b[33;1m\u001b[1;3m{'temperature': 36}\u001b[0m\u001b[32;1m\u001b[1;3m\n",
      "Invoking: `weather_tool` with `{'city': 'mumbai'}`\n",
      "\n",
      "\n",
      "\u001b[0m\u001b[33;1m\u001b[1;3m{'temperature': 38}\u001b[0m\u001b[32;1m\u001b[1;3m\n",
      "Invoking: `weather_tool` with `{'city': 'satara'}`\n",
      "\n",
      "\n",
      "\u001b[0m\u001b[33;1m\u001b[1;3m{'temperature': 34}\u001b[0m\u001b[32;1m\u001b[1;3mBased on the temperature readings, Mumbai is hotter than Pune and Satara.\u001b[0m\n",
      "\n",
      "\u001b[1m> Finished chain.\u001b[0m\n"
     ]
    },
    {
     "data": {
      "text/plain": [
       "{'question': 'which one is hotter, pune, mumbai and satara?',\n",
       " 'output': 'Based on the temperature readings, Mumbai is hotter than Pune and Satara.'}"
      ]
     },
     "execution_count": 14,
     "metadata": {},
     "output_type": "execute_result"
    }
   ],
   "source": [
    "question = \"which one is hotter, pune, mumbai and satara?\"\n",
    "\n",
    "# invoke the agent and get the response\n",
    "agent_executor.invoke({\"question\": question})"
   ]
  },
  {
   "cell_type": "code",
   "execution_count": null,
   "id": "15505ae6-b85b-4183-b5c5-30e066d6473e",
   "metadata": {},
   "outputs": [],
   "source": []
  }
 ],
 "metadata": {
  "kernelspec": {
   "display_name": "Python 3 (ipykernel)",
   "language": "python",
   "name": "python3"
  },
  "language_info": {
   "codemirror_mode": {
    "name": "ipython",
    "version": 3
   },
   "file_extension": ".py",
   "mimetype": "text/x-python",
   "name": "python",
   "nbconvert_exporter": "python",
   "pygments_lexer": "ipython3",
   "version": "3.10.16"
  }
 },
 "nbformat": 4,
 "nbformat_minor": 5
}
