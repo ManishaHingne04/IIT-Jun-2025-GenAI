{
 "cells": [
  {
   "cell_type": "code",
   "execution_count": 9,
   "id": "af7af91a-f674-4bdf-a097-c12c54b39ffa",
   "metadata": {},
   "outputs": [],
   "source": [
    "from langchain_ollama import ChatOllama\n",
    "from langchain_core.prompts import ChatPromptTemplate\n",
    "from langchain.agents import tool, AgentExecutor, create_tool_calling_agent"
   ]
  },
  {
   "cell_type": "code",
   "execution_count": 2,
   "id": "f99f7853-3973-46a9-9723-701c74c8d252",
   "metadata": {},
   "outputs": [],
   "source": [
    "# create a model\n",
    "model = ChatOllama(model=\"llama3.1\")"
   ]
  },
  {
   "cell_type": "code",
   "execution_count": 6,
   "id": "dfaca802-e9f1-4962-a80e-ba284e3b70cc",
   "metadata": {},
   "outputs": [],
   "source": [
    "# tool: function which does some job\n",
    "\n",
    "@tool\n",
    "def my_magic_function(param: int):\n",
    "    \"\"\"\n",
    "    This is magical function to transform the parameter to the new value.\n",
    "\n",
    "    Args:\n",
    "        param (int): a value to be transformed.\n",
    "\n",
    "    Returns:\n",
    "        int: transformed value\n",
    "    \"\"\"\n",
    "    return param * 100"
   ]
  },
  {
   "cell_type": "code",
   "execution_count": 7,
   "id": "53bec43a-72cb-4311-9d66-a6a2ec706c46",
   "metadata": {},
   "outputs": [],
   "source": [
    "# create the tools list\n",
    "tools = [my_magic_function]"
   ]
  },
  {
   "cell_type": "code",
   "execution_count": 8,
   "id": "6a887fc2-debf-448d-8ee4-31507bf4329b",
   "metadata": {},
   "outputs": [],
   "source": [
    "prompt = ChatPromptTemplate.from_messages([\n",
    "    (\"system\", \"You are a helpful assistant capable of answering questions on various topics\"),\n",
    "    (\"human\", \"{question}\"),\n",
    "    (\"placeholder\", \"{agent_scratchpad}\")\n",
    "])"
   ]
  },
  {
   "cell_type": "code",
   "execution_count": 10,
   "id": "6c1b57dc-f7ca-4672-b153-71137ce8cf46",
   "metadata": {},
   "outputs": [],
   "source": [
    "# create the agent which will call our tool(s)\n",
    "agent = create_tool_calling_agent(llm=model, prompt=prompt, tools=tools)\n",
    "\n",
    "# create the agent executor\n",
    "agent_executor = AgentExecutor(agent=agent, tools=tools, verbose=True)"
   ]
  },
  {
   "cell_type": "code",
   "execution_count": 12,
   "id": "40587a3d-027d-4a70-84ad-acea2f6f5b2b",
   "metadata": {},
   "outputs": [
    {
     "name": "stdout",
     "output_type": "stream",
     "text": [
      "\n",
      "\n",
      "\u001b[1m> Entering new AgentExecutor chain...\u001b[0m\n",
      "\u001b[32;1m\u001b[1;3m\n",
      "Invoking: `my_magic_function` with `{'param': 100}`\n",
      "\n",
      "\n",
      "\u001b[0m\u001b[36;1m\u001b[1;3m10000\u001b[0m\u001b[32;1m\u001b[1;3mBased on the function call, I will provide an answer to your original question.\n",
      "\n",
      "What does `my_magical_function(100)` do?\n",
      "\n",
      "The function returns 10,000.\u001b[0m\n",
      "\n",
      "\u001b[1m> Finished chain.\u001b[0m\n",
      "{'question': 'what is my_magical_function(100)?', 'output': 'Based on the function call, I will provide an answer to your original question.\\n\\nWhat does `my_magical_function(100)` do?\\n\\nThe function returns 10,000.'}\n"
     ]
    }
   ],
   "source": [
    "question = \"what is my_magical_function(100)?\"\n",
    "\n",
    "# execute the agent by passing the user question\n",
    "response = agent_executor.invoke({\"question\": question})\n",
    "\n",
    "print(response)"
   ]
  },
  {
   "cell_type": "code",
   "execution_count": 15,
   "id": "a9b39a2c-9571-4dc3-88d3-61a61c3e92eb",
   "metadata": {},
   "outputs": [
    {
     "name": "stdout",
     "output_type": "stream",
     "text": [
      "Based on the function call, I will provide an answer to your original question.\n",
      "\n",
      "What does `my_magical_function(100)` do?\n",
      "\n",
      "The function returns 10,000.\n"
     ]
    }
   ],
   "source": [
    "print(response['output'])"
   ]
  },
  {
   "cell_type": "code",
   "execution_count": null,
   "id": "453cb22f-7176-46af-876c-d3f4caf85ed5",
   "metadata": {},
   "outputs": [],
   "source": []
  }
 ],
 "metadata": {
  "kernelspec": {
   "display_name": "Python 3 (ipykernel)",
   "language": "python",
   "name": "python3"
  },
  "language_info": {
   "codemirror_mode": {
    "name": "ipython",
    "version": 3
   },
   "file_extension": ".py",
   "mimetype": "text/x-python",
   "name": "python",
   "nbconvert_exporter": "python",
   "pygments_lexer": "ipython3",
   "version": "3.12.10"
  }
 },
 "nbformat": 4,
 "nbformat_minor": 5
}
