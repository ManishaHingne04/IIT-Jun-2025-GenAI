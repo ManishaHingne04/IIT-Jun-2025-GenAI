{
 "cells": [
  {
   "cell_type": "code",
   "execution_count": 1,
   "id": "6cd6d4ec-c42d-4e46-96a8-044f038ac1ca",
   "metadata": {},
   "outputs": [],
   "source": [
    "from typing_extensions import TypedDict\n",
    "from langgraph.graph import StateGraph, START, END\n",
    "from langchain_ollama import ChatOllama\n",
    "from langchain_core.prompts import ChatPromptTemplate\n",
    "import sqlite3"
   ]
  },
  {
   "cell_type": "code",
   "execution_count": 2,
   "id": "a355a190-9769-431a-97ec-8dce4dde3353",
   "metadata": {},
   "outputs": [],
   "source": [
    "# define the state\n",
    "class State(TypedDict):\n",
    "    question: str\n",
    "    query: str\n",
    "    result: str\n",
    "    final_result: str"
   ]
  },
  {
   "cell_type": "code",
   "execution_count": 38,
   "id": "7edf502f-a571-4361-ac1d-bb347e3c6092",
   "metadata": {},
   "outputs": [],
   "source": [
    "# create the model\n",
    "model = ChatOllama(model=\"mistral\")"
   ]
  },
  {
   "cell_type": "code",
   "execution_count": 39,
   "id": "a87edc6c-2e74-4648-a399-ec259d674698",
   "metadata": {},
   "outputs": [],
   "source": [
    "# function to generate the query\n",
    "def generate_query(state: State):\n",
    "    print(f\"going inside the generate_query: \", state)\n",
    "    query_template = \"\"\"\n",
    "    You are a sqlite3 developer, writing sqlite3 queries.\n",
    "    Use the given schema and answer users question.\n",
    "    \n",
    "    Question: {question}\n",
    "    Schema: {schema}\n",
    "    Query:\n",
    "    \n",
    "    Generate only the query nothing else.\n",
    "    \"\"\"\n",
    "\n",
    "    # define the schema\n",
    "    schema = \"\"\"\n",
    "    CREATE TABLE IF NOT EXISTS students (\n",
    "        id INTEGER PRIMARY KEY AUTOINCREMENT,\n",
    "        name TEXT NOT NULL,\n",
    "        age INTEGER NOT NULL,\n",
    "        roll_no INTEGER UNIQUE NOT NULL,\n",
    "        marks REAL NOT NULL,\n",
    "        standard TEXT NOT NULL,\n",
    "        division TEXT NOT NULL\n",
    "    );\n",
    "    \n",
    "    CREATE TABLE IF NOT EXISTS addresses (\n",
    "        id INTEGER PRIMARY KEY AUTOINCREMENT,\n",
    "        studentId INTEGER,\n",
    "        street TEXT NOT NULL,\n",
    "        city TEXT NOT NULL,\n",
    "        state TEXT NOT NULL,\n",
    "        pinCode INTEGER NOT NULL,\n",
    "        FOREIGN KEY (studentId) REFERENCES students(id)\n",
    "    );\n",
    "    \"\"\"\n",
    "    \n",
    "    # create the prompt template\n",
    "    prompt_template = ChatPromptTemplate.from_template(template=query_template)\n",
    "    prompt = prompt_template.invoke({\"question\": state['question'], \"schema\": schema})\n",
    "\n",
    "    # invoke the prompt and get the result \n",
    "    result = model.invoke(prompt)\n",
    "    query = result.content\n",
    "\n",
    "    return {\"query\": query}"
   ]
  },
  {
   "cell_type": "code",
   "execution_count": 40,
   "id": "e51a78ce-7cb0-46ee-8ce4-488f10ef8b39",
   "metadata": {},
   "outputs": [],
   "source": [
    "# function to execute the query and get the result\n",
    "def execute_query(state: State):\n",
    "    print(f\"inside execute_query: \", state)\n",
    "\n",
    "    # open the database connection\n",
    "    connection = sqlite3.connect('./students.db')\n",
    "\n",
    "    # create a cursor object\n",
    "    cursor = connection.cursor()\n",
    "\n",
    "    # execute a query\n",
    "    cursor.execute(state['query'])\n",
    "\n",
    "    # get all the results\n",
    "    rows = cursor.fetchall()\n",
    "\n",
    "    # close the connection\n",
    "    connection.close()\n",
    "\n",
    "    return {\"result\": rows}"
   ]
  },
  {
   "cell_type": "code",
   "execution_count": 56,
   "id": "7113ce49-bcf6-445c-8f59-cd66e5a87b80",
   "metadata": {},
   "outputs": [],
   "source": [
    "# function to format the final output\n",
    "def format_result(state: State):\n",
    "    print(\"inside format_result: \", state)\n",
    "    result_template = \"\"\"\n",
    "    You are a database summarizer.\n",
    "    Given the users question, generated query and results found, you need to format the results accordingly.\n",
    "        \n",
    "    Question: {question}\n",
    "    Query: {query}\n",
    "    Results: {results}\n",
    "    \n",
    "    Print only the formatted results nothing else.\n",
    "    \"\"\"\n",
    "\n",
    "    # create the result prompt template\n",
    "    prompt_template = ChatPromptTemplate.from_template(template=result_template)\n",
    "    prompt = prompt_template.invoke({\n",
    "        \"question\": state['question'], \n",
    "        \"query\": state['query'], \n",
    "        \"results\": state['result']\n",
    "    })\n",
    "    \n",
    "    # invoke the prompt and get the result\n",
    "    final_result = model.invoke(prompt)\n",
    "    print(final_result.content)\n",
    "\n",
    "    return {\"final_result\": final_result.content}    "
   ]
  },
  {
   "cell_type": "code",
   "execution_count": 98,
   "id": "f821d8ac-cb1b-4205-956f-e05a6dd1578d",
   "metadata": {},
   "outputs": [],
   "source": [
    "def check_condition(state: State):\n",
    "    if len(state['query']) == 0:\n",
    "        return \"Fail\"\n",
    "    else:\n",
    "        return \"Pass\""
   ]
  },
  {
   "cell_type": "markdown",
   "id": "e3406138-4b2e-4b96-8dfb-cc6a3bf7bd7a",
   "metadata": {},
   "source": [
    "### build the graph"
   ]
  },
  {
   "cell_type": "code",
   "execution_count": 99,
   "id": "7d9a8ca1-74ae-432b-8b8c-4e4dc7932595",
   "metadata": {},
   "outputs": [],
   "source": [
    "# create the workflow/graph\n",
    "workflow = StateGraph(State)"
   ]
  },
  {
   "cell_type": "code",
   "execution_count": 100,
   "id": "16693125-5a85-4e11-8b75-4ab3fdb151b7",
   "metadata": {},
   "outputs": [
    {
     "data": {
      "text/plain": [
       "<langgraph.graph.state.StateGraph at 0x10e70dd20>"
      ]
     },
     "execution_count": 100,
     "metadata": {},
     "output_type": "execute_result"
    }
   ],
   "source": [
    "# add the nodes\n",
    "workflow.add_node(\"generate_query\", generate_query)\n",
    "workflow.add_node(\"execute_query\", execute_query)\n",
    "workflow.add_node(\"format_result\", format_result)"
   ]
  },
  {
   "cell_type": "code",
   "execution_count": 101,
   "id": "c45d311d-986b-4693-adc8-d19fc9bb0f8e",
   "metadata": {},
   "outputs": [
    {
     "data": {
      "text/plain": [
       "<langgraph.graph.state.StateGraph at 0x10e70dd20>"
      ]
     },
     "execution_count": 101,
     "metadata": {},
     "output_type": "execute_result"
    }
   ],
   "source": [
    "# add the required edges\n",
    "workflow.add_edge(START, \"generate_query\")\n",
    "workflow.add_conditional_edges(\"generate_query\", check_condition, {\"Pass\": \"execute_query\", \"Fail\": END})\n",
    "# workflow.add_edge(\"generate_query\", \"execute_query\")\n",
    "workflow.add_edge(\"execute_query\", \"format_result\")\n",
    "workflow.add_edge(\"format_result\", END)"
   ]
  },
  {
   "cell_type": "code",
   "execution_count": 102,
   "id": "fb4ec2e0-5094-4f30-8f5d-9fbc47f746c4",
   "metadata": {},
   "outputs": [
    {
     "data": {
      "image/png": "[encoded data removed]",
      "text/plain": [
       "<langgraph.graph.state.CompiledStateGraph object at 0x10e70fe20>"
      ]
     },
     "execution_count": 102,
     "metadata": {},
     "output_type": "execute_result"
    }
   ],
   "source": [
    "workflow.compile()"
   ]
  },
  {
   "cell_type": "code",
   "execution_count": 103,
   "id": "a0030a42-6a08-4513-85ed-8f08cc9f6a61",
   "metadata": {},
   "outputs": [],
   "source": [
    "# compile the workflow and get the chain\n",
    "chain = workflow.compile()"
   ]
  },
  {
   "cell_type": "code",
   "execution_count": 104,
   "id": "2c2425ac-c93f-4750-b039-356425b42752",
   "metadata": {},
   "outputs": [
    {
     "name": "stdout",
     "output_type": "stream",
     "text": [
      "going inside the generate_query:  {'question': 'what is the roll no of Emily Chen?'}\n",
      "inside execute_query:  {'question': 'what is the roll no of Emily Chen?', 'query': \" SELECT roll_no FROM students WHERE name = 'Emily Chen';\"}\n",
      "inside format_result:  {'question': 'what is the roll no of Emily Chen?', 'query': \" SELECT roll_no FROM students WHERE name = 'Emily Chen';\", 'result': [(106,)]}\n",
      " Roll No for Emily Chen: 106\n"
     ]
    },
    {
     "data": {
      "text/plain": [
       "{'question': 'what is the roll no of Emily Chen?',\n",
       " 'query': \" SELECT roll_no FROM students WHERE name = 'Emily Chen';\",\n",
       " 'result': [(106,)],\n",
       " 'final_result': ' Roll No for Emily Chen: 106'}"
      ]
     },
     "execution_count": 104,
     "metadata": {},
     "output_type": "execute_result"
    }
   ],
   "source": [
    "question = \"what is the roll no of Emily Chen?\"\n",
    "chain.invoke({\"question\": question})"
   ]
  },
  {
   "cell_type": "code",
   "execution_count": null,
   "id": "9a65cbf1-9127-459d-a83c-bdc0c133dc66",
   "metadata": {},
   "outputs": [],
   "source": []
  },
  {
   "cell_type": "code",
   "execution_count": null,
   "id": "a1db4981-4fa6-4f3b-b6d7-592bb8ff17ab",
   "metadata": {},
   "outputs": [],
   "source": []
  }
 ],
 "metadata": {
  "kernelspec": {
   "display_name": "Python 3 (ipykernel)",
   "language": "python",
   "name": "python3"
  },
  "language_info": {
   "codemirror_mode": {
    "name": "ipython",
    "version": 3
   },
   "file_extension": ".py",
   "mimetype": "text/x-python",
   "name": "python",
   "nbconvert_exporter": "python",
   "pygments_lexer": "ipython3",
   "version": "3.12.10"
  }
 },
 "nbformat": 4,
 "nbformat_minor": 5
}
